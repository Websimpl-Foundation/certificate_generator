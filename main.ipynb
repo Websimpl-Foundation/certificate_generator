{
 "cells": [
  {
   "cell_type": "code",
   "execution_count": 1,
   "metadata": {},
   "outputs": [],
   "source": [
    "from PIL import Image, ImageDraw, ImageFont\n",
    "import os\n",
    "import uuid\n",
    "import pandas as pd"
   ]
  },
  {
   "cell_type": "code",
   "execution_count": 2,
   "metadata": {},
   "outputs": [],
   "source": [
    "try:\n",
    "    data = pd.read_excel(\"Data.xlsx\")\n",
    "    name_list = pd.Series(data[\"name\"])\n",
    "except Exception as e:\n",
    "    print(e)"
   ]
  },
  {
   "cell_type": "code",
   "execution_count": 3,
   "metadata": {},
   "outputs": [
    {
     "name": "stdout",
     "output_type": "stream",
     "text": [
      "Certificate saved for Bhavya Verma\n",
      "Certificate saved for Krishna Singha\n"
     ]
    }
   ],
   "source": [
    "certificate_title = \"Internship Completion Certificate\"\n",
    "\n",
    "# Path to your certificate template and font file\n",
    "certificate_template_path = \"cert.png\"\n",
    "font_path = \"fonts/BRUSHSCI.TTF\"\n",
    "title_font_path = \"fonts/kepler_std_bold_semicondensed_subhead.otf\"\n",
    "\n",
    "# Output directory for saving certificates\n",
    "output_directory = \"certificates\"\n",
    "# Create the output directory if it doesn't exist\n",
    "os.makedirs(output_directory, exist_ok=True)\n",
    "\n",
    "for name in name_list:\n",
    "    try:\n",
    "        # Open the certificate template\n",
    "        im = Image.open(certificate_template_path).convert(\"RGB\")\n",
    "        d = ImageDraw.Draw(im)\n",
    "\n",
    "        # Set location, text color, and font size\n",
    "        location = (620 + 25*(19 - len(name)), 590)\n",
    "        text_color = (0, 0, 0)\n",
    "        font_size = 100\n",
    "\n",
    "        # Load font\n",
    "        font = ImageFont.truetype(font_path, font_size)\n",
    "\n",
    "        # Write name on the certificate\n",
    "        d.text(location, name, fill=text_color, font=font)\n",
    "\n",
    "        # Set certificate title, location, and font size\n",
    "        font_size = 120\n",
    "        font = ImageFont.truetype(title_font_path, font_size)\n",
    "        location = (600 + 25*(19 - len(certificate_title)), 300)\n",
    "        d.text(location, certificate_title, fill=text_color, font=font)\n",
    "\n",
    "        # Set Unique Id, location, and font size\n",
    "        id = str(uuid.uuid4())\n",
    "        unique_id = f\"Certificate ID: {id}\"\n",
    "        font_size = 28\n",
    "        text_color = (100, 100, 100)\n",
    "        font = ImageFont.truetype(title_font_path, font_size)\n",
    "        location = (700, 1300)\n",
    "        d.text(location, unique_id, fill=text_color, font=font)\n",
    "\n",
    "        # Save the certificate as PNG\n",
    "        certificate_filename = f\"{name}_{id}.png\"\n",
    "        certificate_filepath = os.path.join(\n",
    "            output_directory, certificate_filename)\n",
    "        im.save(certificate_filepath)\n",
    "        print(f\"Certificate saved for {name}\")\n",
    "    except Exception as e:\n",
    "        print(f\"Error occurred for {name}: {e}\")"
   ]
  }
 ],
 "metadata": {
  "kernelspec": {
   "display_name": "Python 3",
   "language": "python",
   "name": "python3"
  },
  "language_info": {
   "codemirror_mode": {
    "name": "ipython",
    "version": 3
   },
   "file_extension": ".py",
   "mimetype": "text/x-python",
   "name": "python",
   "nbconvert_exporter": "python",
   "pygments_lexer": "ipython3",
   "version": "3.12.4"
  }
 },
 "nbformat": 4,
 "nbformat_minor": 2
}
